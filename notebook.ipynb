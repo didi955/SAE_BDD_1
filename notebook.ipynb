{
 "cells": [
  {
   "cell_type": "markdown",
   "id": "1ce353ab",
   "metadata": {},
   "source": [
    "    IUT de Villetaneuse - BUT S1- INFO                                            Dylan LANNUZEL & Sofiane Hamiche"
   ]
  },
  {
   "cell_type": "markdown",
   "id": "21f0427a",
   "metadata": {},
   "source": [
    "# SAE 1.04 Création d’une base de données"
   ]
  },
  {
   "cell_type": "markdown",
   "id": "8324c978",
   "metadata": {},
   "source": [
    "![](https://encrypted-tbn0.gstatic.com/images?q=tbn:ANd9GcSJSzWp4YybYQ_q_yFQVNrmPyxeTu_AEp0img&usqp=CAU)"
   ]
  },
  {
   "cell_type": "markdown",
   "id": "b71bd767",
   "metadata": {},
   "source": [
    "## Phase 1:"
   ]
  },
  {
   "cell_type": "markdown",
   "id": "4dd3852c",
   "metadata": {},
   "source": [
    "### Fichier CSV:"
   ]
  },
  {
   "cell_type": "markdown",
   "id": "21257f5b",
   "metadata": {},
   "source": [
    "Le fichier *train.csv* est un fichier issu de la plateforme web kaggle dans le but de s'entrainer de manière compétitive à des modéles de machine learning.\n",
    "\n",
    "Ce fichier comprend **12 attributs** représentant donc son degré, mais aussi **891 lignes** représentant sa cardinalité.\n",
    "\n",
    "Ces 891 lignes correspondent aux nombre de personnes enregistrées et connus ayant été présent à bord du célèbre paquebot britannique *RMS Titanic* ayant fait naufrage en 1912."
   ]
  },
  {
   "cell_type": "markdown",
   "id": "926f5b8b",
   "metadata": {},
   "source": [
    "#### Attributs:\n",
    "\n",
    "- L'attribut **PassagerID** est défini par un entier positif auto-incrémenté pour permettent d'identifier de manière unique dans le fichier une personne.\n",
    "\n",
    "- L'attribut **Survived** est défini par une valeur booléenne avec soit 1 soit 0, permettant de savoir si le passager a survecu au naufrage.\n",
    "\n",
    "- L'attribut **Pclass** est défini par un entier positif compris entre 1 et 3 inclus pour permettre de déterminer la classe du passager sur le navire.\n",
    "\n",
    "- L'attribut **Name** est défini par une chaine de caractère représentant le nom complet du passager.\n",
    "\n",
    "- L'attribut **Sex** est défini par une chaine de caractère égale à \"female\" ou \"male\" qui permet de représenter le sexe du passager.\n",
    "\n",
    "- L'attribut **Age** est défini par un entier positif représentant l'age du passager ou un flottant si estimé.\n",
    "\n",
    "- L'attribut **SibSp** est défini par un entier positif représentant le nombre de frères, de soeurs ou d'époux/épouses \n",
    "\n",
    "- L'attribut **Parch** est défini par un entier positif représentant le nombre de parents ou d'enfants que possède le passager.\n",
    "\n",
    "- L'attribut **Ticket** est défini par une chaine de caractère représentant le numéro du ticket du pasager.\n",
    "\n",
    "- L'attribut **Fare** est défini par un nombre flottant représentant le prix du ticket.\n",
    "\n",
    "- L'attribut **Cabin** est défini par une chaine de caractère représentant le numéro de la cabine du passager.\n",
    "\n",
    "- L'attribut **Embarked** est défini par un caractère égal à 'S', 'C' ou 'Q' représentant la ville du port d'embarquement du passager."
   ]
  },
  {
   "cell_type": "markdown",
   "id": "a82435ad",
   "metadata": {},
   "source": [
    "### Objectif:\n",
    "\n",
    "L'objectif va etre alors de restructurer correctement les données de ce fichier pour pouvoir les intégrer à notre base de données de manière optimale."
   ]
  },
  {
   "cell_type": "markdown",
   "id": "5cac6e5b",
   "metadata": {},
   "source": [
    "### Taches:\n",
    "\n"
   ]
  },
  {
   "cell_type": "markdown",
   "id": "0080201c",
   "metadata": {},
   "source": [
    "| Phases \t| Taches \t|\n",
    "|:---:\t|---\t|\n",
    "| Phase 1 \t| - Analyser la composition du fichier CSV pour identifier ses caractéristiques et les valeurs représentées. \t|\n",
    "| Phase 2 \t| - Proposer un schéma relationnel pour créer la base de donnée lié à ce fichier CSV. \t|\n",
    "|  \t| - Expliquer ce schéma. \t|\n",
    "|  \t| - Développer un script permettant de créer la base de donnée, les tables et d’y ajouter les données. \t|\n",
    "| Phase 3 \t| - Récuperer les données néccéssaires à l'aide de requete SQL adaptées. \t|\n",
    "|  \t| - Afficher les résultat à l'aide de graphiques \t|\n",
    "|  \t|  \t|"
   ]
  },
  {
   "cell_type": "markdown",
   "id": "b93ca6aa",
   "metadata": {},
   "source": [
    "## Phase 2:"
   ]
  },
  {
   "cell_type": "markdown",
   "id": "96b9b794",
   "metadata": {},
   "source": [
    "![](https://user-images.githubusercontent.com/45293702/139329304-4347f776-4abe-4706-b4d9-1c72bcfcd569.png)"
   ]
  },
  {
   "cell_type": "markdown",
   "id": "c81b1c5b",
   "metadata": {},
   "source": [
    "Nous avons décidé de conserver les valeurs entières auto-incrémentées en tant que clé primaires des tables car le contexte ne nécessite pas l'utilisation de clés primaire unique générées aléatoirement et non-dépendantes de la base de données ou du serveur utilisée comme l'UUIDv4 car ici nous nous basons sur une architecture très simple avec qu'une seul base de données hébergé sur un seul et unique serveur et non avec un système de clustering/replication."
   ]
  },
  {
   "cell_type": "markdown",
   "id": "5d84e384",
   "metadata": {},
   "source": [
    "Nous avons décidé de créer 4 tables dans notre base de données, "
   ]
  },
  {
   "cell_type": "markdown",
   "id": "7445aaf1",
   "metadata": {},
   "source": [
    "## Script Python:"
   ]
  },
  {
   "cell_type": "markdown",
   "id": "9743710e",
   "metadata": {},
   "source": [
    "Toutes les classes et fichiers python présentées ci-dessous ont été développées par **Dylan LANNUZEL** initialement en JAVA pour le projet [Rushcubeland](https://github.com/Rushcubeland) et ont été ensuite adaptées en python pour la SAE."
   ]
  },
  {
   "cell_type": "markdown",
   "id": "c6a8b534",
   "metadata": {},
   "source": [
    "La classe **DatabaseCredentials** a été crée pour permettre de représenter en objet les identifiants de connexion à une base de données spécifiée"
   ]
  },
  {
   "cell_type": "code",
   "execution_count": 1,
   "id": "1ee3df6c",
   "metadata": {},
   "outputs": [],
   "source": [
    "class DatabaseCredentials:\n",
    "\n",
    "    # This class file is a part and made for the SAE_PROJECT during S1 from IUTV\n",
    "\n",
    "    def __init__(self, host: str, user: str, password: str, dbname: str, port: int):\n",
    "        self.host = host\n",
    "        self.user = user\n",
    "        self.password = password\n",
    "        self.dbName = dbname\n",
    "        self.port = port\n",
    "\n",
    "    def getHost(self) -> str:\n",
    "        \"\"\"\n",
    "        Execute and commit a SQL Query with the requierment to expect data at the return\n",
    "\n",
    "        Returns:\n",
    "        str:Return the database host\n",
    "        \"\"\"\n",
    "        return self.host\n",
    "\n",
    "    def getUser(self) -> str:\n",
    "        \"\"\"\n",
    "        Get user of the current database\n",
    "\n",
    "        Returns:\n",
    "        str:Return the database user\n",
    "        \"\"\"\n",
    "        return self.user\n",
    "\n",
    "    def getPass(self) -> str:\n",
    "        \"\"\"\n",
    "        Get pass of the current database\n",
    "\n",
    "        Returns:\n",
    "        str:Return the database pass\n",
    "        \"\"\"\n",
    "        return self.password\n",
    "\n",
    "    def getDbName(self) -> str:\n",
    "        \"\"\"\n",
    "        Get name of the current database\n",
    "\n",
    "        Returns:\n",
    "        str:Return the database name\n",
    "        \"\"\"\n",
    "        return self.dbName\n",
    "\n",
    "    def getPort(self) -> int:\n",
    "        \"\"\"\n",
    "        Get port of the current database\n",
    "\n",
    "        Returns:\n",
    "        int:Return the database port\n",
    "        \"\"\"\n",
    "        return self.port\n",
    "\n",
    "    "
   ]
  },
  {
   "cell_type": "markdown",
   "id": "3356cda6",
   "metadata": {},
   "source": [
    "La classe **DatabaseAccess** permet de connecter le client (script) à la base de données spécifiée à l'aide des instances DatabaseCredentials et DatabaseManager"
   ]
  },
  {
   "cell_type": "code",
   "execution_count": 2,
   "id": "235036db",
   "metadata": {},
   "outputs": [],
   "source": [
    "import psycopg2\n",
    "from psycopg2 import pool\n",
    "\n",
    "# This class file is a part and made for the SAE_PROJECT during S1 from IUTV\n",
    "\n",
    "\n",
    "class DatabaseAccess:\n",
    "    pool = None\n",
    "\n",
    "    def __init__(self, credentials: DatabaseCredentials):\n",
    "        self.credentials = credentials\n",
    "\n",
    "    def setupPoolingConnection(self):\n",
    "        try:\n",
    "            self.pool = psycopg2.pool.SimpleConnectionPool(1, 20,\n",
    "                                                           host=self.credentials.host,\n",
    "                                                           database=self.credentials.dbName,\n",
    "                                                           user=self.credentials.user,\n",
    "                                                           password=self.credentials.password,\n",
    "                                                           port=self.credentials.port)\n",
    "\n",
    "            print(\"Successfuly connected to\", self.credentials.dbName, \" PostgreSQL database\")\n",
    "\n",
    "        except psycopg2.DatabaseError as e:\n",
    "            print(\"Error while connecting to PostgreSQL using Connection pool \", e)\n",
    "\n",
    "    def getConnection(self):\n",
    "        con = self.pool.getconn()\n",
    "        con.autocommit = True\n",
    "        return con\n",
    "\n",
    "    def releaseConnection(self, connection):\n",
    "        \"\"\"\n",
    "        Retrive and open the connection in the pool for next queries. \n",
    "        \"\"\"\n",
    "        self.pool.putconn(connection)\n",
    "\n",
    "    def initPool(self):\n",
    "        \"\"\"\n",
    "        Setup and connection of the Pool to the database\n",
    "        \"\"\"\n",
    "        self.setupPoolingConnection()\n",
    "\n",
    "    def stopPool(self):\n",
    "        \"\"\"\n",
    "        Stop, abort all connections and disconnect the Pool to the database\n",
    "        \"\"\"\n",
    "        self.pool.closeall()\n"
   ]
  },
  {
   "cell_type": "markdown",
   "id": "b0d474b2",
   "metadata": {},
   "source": [
    "La classe **DatabaseManager** a été crée sous la forme d'une énumération pour gérer différentes bases de données à la fois pour un projet."
   ]
  },
  {
   "cell_type": "code",
   "execution_count": 3,
   "id": "a0b2c2c9",
   "metadata": {},
   "outputs": [],
   "source": [
    "from enum import Enum\n",
    "\n",
    "\n",
    "# This class file is a part and made for the SAE_PROJECT during S1 from IUTV\n",
    "\n",
    "class DatabaseManager(Enum):\n",
    "    BDD1 = DatabaseCredentials(\"176.145.156.156\", \"sae_bdd\", \"y4#Lx,jK9:ZM6a3]\", \"sae_bdd\", 5432)\n",
    "\n",
    "    def __init__(self, credentials: DatabaseCredentials):\n",
    "        self.databaseAccess = DatabaseAccess(credentials)\n",
    "\n",
    "    def getDatabaseAccess(self) -> DatabaseAccess:\n",
    "        \"\"\"\n",
    "        Get DatabaseAccess instance\n",
    "\n",
    "        Returns:\n",
    "        DatabaseAccess:Return the DatabaseAccess instance\n",
    "        \"\"\"\n",
    "        return self.databaseAccess\n",
    "\n",
    "    @staticmethod\n",
    "    def initAllDatabaseConnections():\n",
    "        for key in DatabaseManager.__members__.values():\n",
    "            key.databaseAccess.initPool()\n",
    "\n",
    "    @staticmethod\n",
    "    def closeAllDatabaseConnections():\n",
    "        for key in DatabaseManager.__members__.values():\n",
    "            key.databaseAccess.stopPool()\n",
    "\n",
    "            \n",
    "\n"
   ]
  },
  {
   "cell_type": "markdown",
   "id": "9df88027",
   "metadata": {},
   "source": [
    "Ce module python nommé \"SQL\" permet de facilement exécuter des requetes SQL avec une grande fléxibilité et de prévenir les injections SQL"
   ]
  },
  {
   "cell_type": "code",
   "execution_count": 4,
   "id": "ec69b559",
   "metadata": {},
   "outputs": [],
   "source": [
    "# This class file is a part and made for the SAE_PROJECT during S1 from IUTV\n",
    "\n",
    "\n",
    "def update(dbmanager: DatabaseManager, qry: str, *args):\n",
    "    \"\"\"\n",
    "    Execute and commit a SQL Query without needing a return of any data\n",
    "\n",
    "    Parameters:\n",
    "    dbmanager (DatabaseManager): DatabaseManager object related the desired database\n",
    "    qry (str): SQL Query by string\n",
    "    \"\"\"\n",
    "\n",
    "    connection = dbmanager.getDatabaseAccess().getConnection()\n",
    "    cursor = connection.cursor()\n",
    "    if len(args) != 0:\n",
    "        arg = tuple(a for a in args)\n",
    "        cursor.execute(qry, arg)\n",
    "    else:\n",
    "        cursor.execute(qry)\n",
    "    cursor.close()\n",
    "    dbmanager.getDatabaseAccess().releaseConnection(connection)\n",
    "    \n",
    "def copy(dbmanager: DatabaseManager, qry: str, file):\n",
    "    connection = dbmanager.getDatabaseAccess().getConnection()\n",
    "    cursor = connection.cursor()\n",
    "    cursor.copy_expert(qry, file)\n",
    "    cursor.close()\n",
    "    dbmanager.getDatabaseAccess().releaseConnection(connection)\n",
    "\n",
    "\n",
    "def query(dbmanager: DatabaseManager, qry: str, *args) -> list:\n",
    "    \"\"\"\n",
    "    Execute and commit a SQL Query with the requierment to expect data at the return\n",
    "\n",
    "    Parameters:\n",
    "    dbmanager (DatabaseManager): DatabaseManager object related the desired database\n",
    "    qry (str): SQL Query by string\n",
    "    *args: Variable length argument list related to the variables associated in this SQL Query by '%s' keyword\n",
    "\n",
    "    Returns:\n",
    "    list:Return the list of the data retrieved from the SQL Query\n",
    "    \"\"\"\n",
    "    connection = dbmanager.getDatabaseAccess().getConnection()\n",
    "    cursor = connection.cursor()\n",
    "    if len(args) != 0:\n",
    "        arg = tuple(a for a in args)\n",
    "        cursor.execute(qry, arg)\n",
    "    else:\n",
    "        cursor.execute(qry)\n",
    "    rs = cursor.fetchall()\n",
    "    cursor.close()\n",
    "    dbmanager.getDatabaseAccess().releaseConnection(connection)\n",
    "    return rs\n",
    "\n",
    "\n"
   ]
  },
  {
   "cell_type": "markdown",
   "id": "20d06b48",
   "metadata": {},
   "source": [
    "Ce programme python nommé \"main\" est le programme principal de notre application et se charge d'appeler les différentes fonctions initialisatrices au lancement de celui-ci pour créer nottament les tables requises après la connexion à la base de données à l'aide du Connecteur **psycopg2**"
   ]
  },
  {
   "cell_type": "code",
   "execution_count": 5,
   "id": "ab934ea3",
   "metadata": {},
   "outputs": [
    {
     "name": "stdout",
     "output_type": "stream",
     "text": [
      "Successfuly connected to sae_bdd  PostgreSQL database\n"
     ]
    }
   ],
   "source": [
    "# This class file is a part and made for the SAE_PROJECT during S1 from IUTV\n",
    "\n",
    "\n",
    "def createTables():\n",
    "    \"\"\"\n",
    "    Initialization & creation of required tables\n",
    "    \"\"\"\n",
    "    update(DatabaseManager.BDD1, \"CREATE TABLE IF NOT EXISTS port(port_id INT PRIMARY KEY, \"\n",
    "                                     \"Name VARCHAR(100));\")\n",
    "    \n",
    "        update(DatabaseManager.BDD1, \"CREATE TABLE IF NOT EXISTS passenger(PassengerId INT PRIMARY KEY, \"\n",
    "                                     \"Survived BOOLEAN, Name VARCHAR(100), Sex VARCHAR(6), Age SMALLINT, \"\n",
    "                                     \"SibSp SMALLINT, Parch SMALLINT);\")\n",
    "    \n",
    "    update(DatabaseManager.BDD1, \"CREATE TABLE IF NOT EXISTS ticket(PassengerId INT, Pclass SMALLINT, \"\n",
    "                                     \"Ticket VARCHAR(20), \"\n",
    "                                     \"Fare FLOAT(5), Cabin VARCHAR(20), ticket_id INT PRIMARY KEY, port_id INT, \"\n",
    "                                     \"FOREIGN KEY(port_id) REFERENCES port(port_id), \"\n",
    "                                     \"FOREIGN KEY(PassengerId) REFERENCES passenger(PassengerId)\");\")\n",
    "    \n",
    "\n",
    "    update(DatabaseManager.BDD1, \"CREATE TABLE IF NOT EXISTS registered(registered_id SERIAL PRIMARY KEY, \"\n",
    "                                     \"PassengerId INT, ticket_id INT, \"\n",
    "                                     \"FOREIGN KEY(PassengerId) REFERENCES passenger(PassengerId), \"\n",
    "                                     \"FOREIGN KEY(ticket_id) REFERENCES ticket(ticket_id));\")\n",
    "\n",
    "\n",
    "\n",
    "if __name__ == '__main__':\n",
    "    # Instructions d'initialisation\n",
    "    DatabaseManager.initAllDatabaseConnections()\n",
    "    createTables()"
   ]
  },
  {
   "cell_type": "markdown",
   "id": "0e840f19",
   "metadata": {},
   "source": [
    "### Une fois les tables créés nous allons donc procéder à l'alimentation de celles-ci avec le fichier CSV avec l'aide d'un script python. Mais avant ca, il faut créer autant de list (DataFrame ici pour nous aider) qu'il y a de tables de prévues."
   ]
  },
  {
   "cell_type": "markdown",
   "id": "8af57e49",
   "metadata": {},
   "source": [
    "#### Importation du fichier principal et création des listes secondaires nécessaires"
   ]
  },
  {
   "cell_type": "code",
   "execution_count": 6,
   "id": "e0299a49",
   "metadata": {},
   "outputs": [
    {
     "data": {
      "text/html": [
       "<div>\n",
       "<style scoped>\n",
       "    .dataframe tbody tr th:only-of-type {\n",
       "        vertical-align: middle;\n",
       "    }\n",
       "\n",
       "    .dataframe tbody tr th {\n",
       "        vertical-align: top;\n",
       "    }\n",
       "\n",
       "    .dataframe thead th {\n",
       "        text-align: right;\n",
       "    }\n",
       "</style>\n",
       "<table border=\"1\" class=\"dataframe\">\n",
       "  <thead>\n",
       "    <tr style=\"text-align: right;\">\n",
       "      <th></th>\n",
       "      <th>PassengerId</th>\n",
       "      <th>Survived</th>\n",
       "      <th>Pclass</th>\n",
       "      <th>Name</th>\n",
       "      <th>Sex</th>\n",
       "      <th>Age</th>\n",
       "      <th>SibSp</th>\n",
       "      <th>Parch</th>\n",
       "      <th>Ticket</th>\n",
       "      <th>Fare</th>\n",
       "      <th>Cabin</th>\n",
       "      <th>Embarked</th>\n",
       "    </tr>\n",
       "  </thead>\n",
       "  <tbody>\n",
       "    <tr>\n",
       "      <th>0</th>\n",
       "      <td>1</td>\n",
       "      <td>0</td>\n",
       "      <td>3</td>\n",
       "      <td>Braund, Mr. Owen Harris</td>\n",
       "      <td>male</td>\n",
       "      <td>22.0</td>\n",
       "      <td>1</td>\n",
       "      <td>0</td>\n",
       "      <td>A/5 21171</td>\n",
       "      <td>7.2500</td>\n",
       "      <td>NaN</td>\n",
       "      <td>S</td>\n",
       "    </tr>\n",
       "    <tr>\n",
       "      <th>1</th>\n",
       "      <td>2</td>\n",
       "      <td>1</td>\n",
       "      <td>1</td>\n",
       "      <td>Cumings, Mrs. John Bradley (Florence Briggs Th...</td>\n",
       "      <td>female</td>\n",
       "      <td>38.0</td>\n",
       "      <td>1</td>\n",
       "      <td>0</td>\n",
       "      <td>PC 17599</td>\n",
       "      <td>71.2833</td>\n",
       "      <td>C85</td>\n",
       "      <td>C</td>\n",
       "    </tr>\n",
       "    <tr>\n",
       "      <th>2</th>\n",
       "      <td>3</td>\n",
       "      <td>1</td>\n",
       "      <td>3</td>\n",
       "      <td>Heikkinen, Miss. Laina</td>\n",
       "      <td>female</td>\n",
       "      <td>26.0</td>\n",
       "      <td>0</td>\n",
       "      <td>0</td>\n",
       "      <td>STON/O2. 3101282</td>\n",
       "      <td>7.9250</td>\n",
       "      <td>NaN</td>\n",
       "      <td>S</td>\n",
       "    </tr>\n",
       "    <tr>\n",
       "      <th>3</th>\n",
       "      <td>4</td>\n",
       "      <td>1</td>\n",
       "      <td>1</td>\n",
       "      <td>Futrelle, Mrs. Jacques Heath (Lily May Peel)</td>\n",
       "      <td>female</td>\n",
       "      <td>35.0</td>\n",
       "      <td>1</td>\n",
       "      <td>0</td>\n",
       "      <td>113803</td>\n",
       "      <td>53.1000</td>\n",
       "      <td>C123</td>\n",
       "      <td>S</td>\n",
       "    </tr>\n",
       "    <tr>\n",
       "      <th>4</th>\n",
       "      <td>5</td>\n",
       "      <td>0</td>\n",
       "      <td>3</td>\n",
       "      <td>Allen, Mr. William Henry</td>\n",
       "      <td>male</td>\n",
       "      <td>35.0</td>\n",
       "      <td>0</td>\n",
       "      <td>0</td>\n",
       "      <td>373450</td>\n",
       "      <td>8.0500</td>\n",
       "      <td>NaN</td>\n",
       "      <td>S</td>\n",
       "    </tr>\n",
       "    <tr>\n",
       "      <th>5</th>\n",
       "      <td>6</td>\n",
       "      <td>0</td>\n",
       "      <td>3</td>\n",
       "      <td>Moran, Mr. James</td>\n",
       "      <td>male</td>\n",
       "      <td>NaN</td>\n",
       "      <td>0</td>\n",
       "      <td>0</td>\n",
       "      <td>330877</td>\n",
       "      <td>8.4583</td>\n",
       "      <td>NaN</td>\n",
       "      <td>Q</td>\n",
       "    </tr>\n",
       "    <tr>\n",
       "      <th>6</th>\n",
       "      <td>7</td>\n",
       "      <td>0</td>\n",
       "      <td>1</td>\n",
       "      <td>McCarthy, Mr. Timothy J</td>\n",
       "      <td>male</td>\n",
       "      <td>54.0</td>\n",
       "      <td>0</td>\n",
       "      <td>0</td>\n",
       "      <td>17463</td>\n",
       "      <td>51.8625</td>\n",
       "      <td>E46</td>\n",
       "      <td>S</td>\n",
       "    </tr>\n",
       "    <tr>\n",
       "      <th>7</th>\n",
       "      <td>8</td>\n",
       "      <td>0</td>\n",
       "      <td>3</td>\n",
       "      <td>Palsson, Master. Gosta Leonard</td>\n",
       "      <td>male</td>\n",
       "      <td>2.0</td>\n",
       "      <td>3</td>\n",
       "      <td>1</td>\n",
       "      <td>349909</td>\n",
       "      <td>21.0750</td>\n",
       "      <td>NaN</td>\n",
       "      <td>S</td>\n",
       "    </tr>\n",
       "    <tr>\n",
       "      <th>8</th>\n",
       "      <td>9</td>\n",
       "      <td>1</td>\n",
       "      <td>3</td>\n",
       "      <td>Johnson, Mrs. Oscar W (Elisabeth Vilhelmina Berg)</td>\n",
       "      <td>female</td>\n",
       "      <td>27.0</td>\n",
       "      <td>0</td>\n",
       "      <td>2</td>\n",
       "      <td>347742</td>\n",
       "      <td>11.1333</td>\n",
       "      <td>NaN</td>\n",
       "      <td>S</td>\n",
       "    </tr>\n",
       "    <tr>\n",
       "      <th>9</th>\n",
       "      <td>10</td>\n",
       "      <td>1</td>\n",
       "      <td>2</td>\n",
       "      <td>Nasser, Mrs. Nicholas (Adele Achem)</td>\n",
       "      <td>female</td>\n",
       "      <td>14.0</td>\n",
       "      <td>1</td>\n",
       "      <td>0</td>\n",
       "      <td>237736</td>\n",
       "      <td>30.0708</td>\n",
       "      <td>NaN</td>\n",
       "      <td>C</td>\n",
       "    </tr>\n",
       "  </tbody>\n",
       "</table>\n",
       "</div>"
      ],
      "text/plain": [
       "   PassengerId  Survived  Pclass  \\\n",
       "0            1         0       3   \n",
       "1            2         1       1   \n",
       "2            3         1       3   \n",
       "3            4         1       1   \n",
       "4            5         0       3   \n",
       "5            6         0       3   \n",
       "6            7         0       1   \n",
       "7            8         0       3   \n",
       "8            9         1       3   \n",
       "9           10         1       2   \n",
       "\n",
       "                                                Name     Sex   Age  SibSp  \\\n",
       "0                            Braund, Mr. Owen Harris    male  22.0      1   \n",
       "1  Cumings, Mrs. John Bradley (Florence Briggs Th...  female  38.0      1   \n",
       "2                             Heikkinen, Miss. Laina  female  26.0      0   \n",
       "3       Futrelle, Mrs. Jacques Heath (Lily May Peel)  female  35.0      1   \n",
       "4                           Allen, Mr. William Henry    male  35.0      0   \n",
       "5                                   Moran, Mr. James    male   NaN      0   \n",
       "6                            McCarthy, Mr. Timothy J    male  54.0      0   \n",
       "7                     Palsson, Master. Gosta Leonard    male   2.0      3   \n",
       "8  Johnson, Mrs. Oscar W (Elisabeth Vilhelmina Berg)  female  27.0      0   \n",
       "9                Nasser, Mrs. Nicholas (Adele Achem)  female  14.0      1   \n",
       "\n",
       "   Parch            Ticket     Fare Cabin Embarked  \n",
       "0      0         A/5 21171   7.2500   NaN        S  \n",
       "1      0          PC 17599  71.2833   C85        C  \n",
       "2      0  STON/O2. 3101282   7.9250   NaN        S  \n",
       "3      0            113803  53.1000  C123        S  \n",
       "4      0            373450   8.0500   NaN        S  \n",
       "5      0            330877   8.4583   NaN        Q  \n",
       "6      0             17463  51.8625   E46        S  \n",
       "7      1            349909  21.0750   NaN        S  \n",
       "8      2            347742  11.1333   NaN        S  \n",
       "9      0            237736  30.0708   NaN        C  "
      ]
     },
     "execution_count": 6,
     "metadata": {},
     "output_type": "execute_result"
    }
   ],
   "source": [
    "import pandas as pd\n",
    "import numpy as np\n",
    "\n",
    "file = pd.read_csv('train.csv')\n",
    "file.head(10)"
   ]
  },
  {
   "cell_type": "markdown",
   "id": "955ac605",
   "metadata": {},
   "source": [
    "#### Creation des dataframes secondaires représentant chacune de nos tables et suppression des colonnes inutiles"
   ]
  },
  {
   "cell_type": "code",
   "execution_count": 7,
   "id": "1b2ecec2",
   "metadata": {},
   "outputs": [],
   "source": [
    "passenger_data = file.copy()\n",
    "port_data = file.copy()\n",
    "registered_data = file.copy()\n",
    "ticket_data = file.copy()\n",
    "passenger_data.drop(['Pclass', 'Ticket', 'Fare', 'Cabin', 'Embarked'], axis=1, inplace=True)\n",
    "port_data.drop(['Pclass', 'Ticket', 'Fare', 'Cabin', 'Age', 'Name',\n",
    "                   'Survived', 'PassengerId', 'Sex', 'SibSp', 'Parch'], axis=1, inplace=True)\n",
    "registered_data.drop(['Pclass', 'Ticket', 'Fare', 'Cabin', 'Embarked', 'Age', 'Name',\n",
    "                   'Survived', 'Sex', 'SibSp', 'Parch'], axis=1, inplace=True)\n",
    "\n",
    "ticket_data.drop(['Age', 'Name',\n",
    "                   'Survived', 'Sex', 'SibSp', 'Parch', 'Name'], axis=1, inplace=True)"
   ]
  },
  {
   "cell_type": "markdown",
   "id": "1142df45",
   "metadata": {},
   "source": [
    "#### Remplissage des identifiants dans les dataframes avec une auto incrémentation positive et divers conversions et réglages"
   ]
  },
  {
   "cell_type": "code",
   "execution_count": 8,
   "id": "524e5dc4",
   "metadata": {},
   "outputs": [],
   "source": [
    "registered_data['ticket_id'] = np.arange(1, len(ticket_data)+1)\n",
    "registered_data['ticket_id'] = registered_data['ticket_id'].fillna(0)\n",
    "registered_data['ticket_id'] = registered_data['ticket_id'].astype(int)"
   ]
  },
  {
   "cell_type": "code",
   "execution_count": 9,
   "id": "59369960",
   "metadata": {},
   "outputs": [
    {
     "data": {
      "text/html": [
       "<div>\n",
       "<style scoped>\n",
       "    .dataframe tbody tr th:only-of-type {\n",
       "        vertical-align: middle;\n",
       "    }\n",
       "\n",
       "    .dataframe tbody tr th {\n",
       "        vertical-align: top;\n",
       "    }\n",
       "\n",
       "    .dataframe thead th {\n",
       "        text-align: right;\n",
       "    }\n",
       "</style>\n",
       "<table border=\"1\" class=\"dataframe\">\n",
       "  <thead>\n",
       "    <tr style=\"text-align: right;\">\n",
       "      <th></th>\n",
       "      <th>PassengerId</th>\n",
       "      <th>ticket_id</th>\n",
       "    </tr>\n",
       "  </thead>\n",
       "  <tbody>\n",
       "    <tr>\n",
       "      <th>0</th>\n",
       "      <td>1</td>\n",
       "      <td>1</td>\n",
       "    </tr>\n",
       "    <tr>\n",
       "      <th>1</th>\n",
       "      <td>2</td>\n",
       "      <td>2</td>\n",
       "    </tr>\n",
       "    <tr>\n",
       "      <th>2</th>\n",
       "      <td>3</td>\n",
       "      <td>3</td>\n",
       "    </tr>\n",
       "    <tr>\n",
       "      <th>3</th>\n",
       "      <td>4</td>\n",
       "      <td>4</td>\n",
       "    </tr>\n",
       "    <tr>\n",
       "      <th>4</th>\n",
       "      <td>5</td>\n",
       "      <td>5</td>\n",
       "    </tr>\n",
       "    <tr>\n",
       "      <th>5</th>\n",
       "      <td>6</td>\n",
       "      <td>6</td>\n",
       "    </tr>\n",
       "    <tr>\n",
       "      <th>6</th>\n",
       "      <td>7</td>\n",
       "      <td>7</td>\n",
       "    </tr>\n",
       "    <tr>\n",
       "      <th>7</th>\n",
       "      <td>8</td>\n",
       "      <td>8</td>\n",
       "    </tr>\n",
       "    <tr>\n",
       "      <th>8</th>\n",
       "      <td>9</td>\n",
       "      <td>9</td>\n",
       "    </tr>\n",
       "    <tr>\n",
       "      <th>9</th>\n",
       "      <td>10</td>\n",
       "      <td>10</td>\n",
       "    </tr>\n",
       "  </tbody>\n",
       "</table>\n",
       "</div>"
      ],
      "text/plain": [
       "   PassengerId  ticket_id\n",
       "0            1          1\n",
       "1            2          2\n",
       "2            3          3\n",
       "3            4          4\n",
       "4            5          5\n",
       "5            6          6\n",
       "6            7          7\n",
       "7            8          8\n",
       "8            9          9\n",
       "9           10         10"
      ]
     },
     "execution_count": 9,
     "metadata": {},
     "output_type": "execute_result"
    }
   ],
   "source": [
    "registered_data.head(10)"
   ]
  },
  {
   "cell_type": "code",
   "execution_count": 10,
   "id": "5d6a1e36",
   "metadata": {},
   "outputs": [],
   "source": [
    "ticket_data['ticket_id'] = np.arange(1, len(ticket_data)+1)\n",
    "ticket_data['port_id'] = ticket_data['Embarked'].replace(['S', 'C', 'Q'], [1, 2, 3])\n",
    "ticket_data['port_id'] = ticket_data['port_id'].fillna(0)\n",
    "ticket_data['port_id'] = ticket_data['port_id'].astype(int)\n",
    "ticket_data.drop(['Embarked'], axis=1, inplace=True)"
   ]
  },
  {
   "cell_type": "code",
   "execution_count": 11,
   "id": "7e33d11f",
   "metadata": {},
   "outputs": [
    {
     "data": {
      "text/html": [
       "<div>\n",
       "<style scoped>\n",
       "    .dataframe tbody tr th:only-of-type {\n",
       "        vertical-align: middle;\n",
       "    }\n",
       "\n",
       "    .dataframe tbody tr th {\n",
       "        vertical-align: top;\n",
       "    }\n",
       "\n",
       "    .dataframe thead th {\n",
       "        text-align: right;\n",
       "    }\n",
       "</style>\n",
       "<table border=\"1\" class=\"dataframe\">\n",
       "  <thead>\n",
       "    <tr style=\"text-align: right;\">\n",
       "      <th></th>\n",
       "      <th>PassengerId</th>\n",
       "      <th>Pclass</th>\n",
       "      <th>Ticket</th>\n",
       "      <th>Fare</th>\n",
       "      <th>Cabin</th>\n",
       "      <th>ticket_id</th>\n",
       "      <th>port_id</th>\n",
       "    </tr>\n",
       "  </thead>\n",
       "  <tbody>\n",
       "    <tr>\n",
       "      <th>0</th>\n",
       "      <td>1</td>\n",
       "      <td>3</td>\n",
       "      <td>A/5 21171</td>\n",
       "      <td>7.2500</td>\n",
       "      <td>NaN</td>\n",
       "      <td>1</td>\n",
       "      <td>1</td>\n",
       "    </tr>\n",
       "    <tr>\n",
       "      <th>1</th>\n",
       "      <td>2</td>\n",
       "      <td>1</td>\n",
       "      <td>PC 17599</td>\n",
       "      <td>71.2833</td>\n",
       "      <td>C85</td>\n",
       "      <td>2</td>\n",
       "      <td>2</td>\n",
       "    </tr>\n",
       "    <tr>\n",
       "      <th>2</th>\n",
       "      <td>3</td>\n",
       "      <td>3</td>\n",
       "      <td>STON/O2. 3101282</td>\n",
       "      <td>7.9250</td>\n",
       "      <td>NaN</td>\n",
       "      <td>3</td>\n",
       "      <td>1</td>\n",
       "    </tr>\n",
       "    <tr>\n",
       "      <th>3</th>\n",
       "      <td>4</td>\n",
       "      <td>1</td>\n",
       "      <td>113803</td>\n",
       "      <td>53.1000</td>\n",
       "      <td>C123</td>\n",
       "      <td>4</td>\n",
       "      <td>1</td>\n",
       "    </tr>\n",
       "    <tr>\n",
       "      <th>4</th>\n",
       "      <td>5</td>\n",
       "      <td>3</td>\n",
       "      <td>373450</td>\n",
       "      <td>8.0500</td>\n",
       "      <td>NaN</td>\n",
       "      <td>5</td>\n",
       "      <td>1</td>\n",
       "    </tr>\n",
       "    <tr>\n",
       "      <th>5</th>\n",
       "      <td>6</td>\n",
       "      <td>3</td>\n",
       "      <td>330877</td>\n",
       "      <td>8.4583</td>\n",
       "      <td>NaN</td>\n",
       "      <td>6</td>\n",
       "      <td>3</td>\n",
       "    </tr>\n",
       "    <tr>\n",
       "      <th>6</th>\n",
       "      <td>7</td>\n",
       "      <td>1</td>\n",
       "      <td>17463</td>\n",
       "      <td>51.8625</td>\n",
       "      <td>E46</td>\n",
       "      <td>7</td>\n",
       "      <td>1</td>\n",
       "    </tr>\n",
       "    <tr>\n",
       "      <th>7</th>\n",
       "      <td>8</td>\n",
       "      <td>3</td>\n",
       "      <td>349909</td>\n",
       "      <td>21.0750</td>\n",
       "      <td>NaN</td>\n",
       "      <td>8</td>\n",
       "      <td>1</td>\n",
       "    </tr>\n",
       "    <tr>\n",
       "      <th>8</th>\n",
       "      <td>9</td>\n",
       "      <td>3</td>\n",
       "      <td>347742</td>\n",
       "      <td>11.1333</td>\n",
       "      <td>NaN</td>\n",
       "      <td>9</td>\n",
       "      <td>1</td>\n",
       "    </tr>\n",
       "    <tr>\n",
       "      <th>9</th>\n",
       "      <td>10</td>\n",
       "      <td>2</td>\n",
       "      <td>237736</td>\n",
       "      <td>30.0708</td>\n",
       "      <td>NaN</td>\n",
       "      <td>10</td>\n",
       "      <td>2</td>\n",
       "    </tr>\n",
       "  </tbody>\n",
       "</table>\n",
       "</div>"
      ],
      "text/plain": [
       "   PassengerId  Pclass            Ticket     Fare Cabin  ticket_id  port_id\n",
       "0            1       3         A/5 21171   7.2500   NaN          1        1\n",
       "1            2       1          PC 17599  71.2833   C85          2        2\n",
       "2            3       3  STON/O2. 3101282   7.9250   NaN          3        1\n",
       "3            4       1            113803  53.1000  C123          4        1\n",
       "4            5       3            373450   8.0500   NaN          5        1\n",
       "5            6       3            330877   8.4583   NaN          6        3\n",
       "6            7       1             17463  51.8625   E46          7        1\n",
       "7            8       3            349909  21.0750   NaN          8        1\n",
       "8            9       3            347742  11.1333   NaN          9        1\n",
       "9           10       2            237736  30.0708   NaN         10        2"
      ]
     },
     "execution_count": 11,
     "metadata": {},
     "output_type": "execute_result"
    }
   ],
   "source": [
    "ticket_data.head(10)"
   ]
  },
  {
   "cell_type": "code",
   "execution_count": 12,
   "id": "c41fdeee",
   "metadata": {},
   "outputs": [],
   "source": [
    "port_data['port_id'] = port_data['Embarked'].replace(['S', 'C', 'Q'], [1, 2, 3])\n",
    "port_data['Name'] = port_data['Embarked'].replace(['S', 'C', 'Q'], ['Southampton', 'Cherbourg', 'Queenstown'])\n",
    "port_data.drop(['Embarked'], axis=1, inplace=True)\n",
    "port_data.dropna(subset=['port_id'], inplace=True)\n",
    "port_data['port_id'] = port_data['port_id'].astype(int)\n",
    "port_data.drop_duplicates(subset =[\"Name\"],\n",
    "                     keep='first', inplace = True)"
   ]
  },
  {
   "cell_type": "code",
   "execution_count": 13,
   "id": "a70cd186",
   "metadata": {},
   "outputs": [
    {
     "data": {
      "text/html": [
       "<div>\n",
       "<style scoped>\n",
       "    .dataframe tbody tr th:only-of-type {\n",
       "        vertical-align: middle;\n",
       "    }\n",
       "\n",
       "    .dataframe tbody tr th {\n",
       "        vertical-align: top;\n",
       "    }\n",
       "\n",
       "    .dataframe thead th {\n",
       "        text-align: right;\n",
       "    }\n",
       "</style>\n",
       "<table border=\"1\" class=\"dataframe\">\n",
       "  <thead>\n",
       "    <tr style=\"text-align: right;\">\n",
       "      <th></th>\n",
       "      <th>port_id</th>\n",
       "      <th>Name</th>\n",
       "    </tr>\n",
       "  </thead>\n",
       "  <tbody>\n",
       "    <tr>\n",
       "      <th>0</th>\n",
       "      <td>1</td>\n",
       "      <td>Southampton</td>\n",
       "    </tr>\n",
       "    <tr>\n",
       "      <th>1</th>\n",
       "      <td>2</td>\n",
       "      <td>Cherbourg</td>\n",
       "    </tr>\n",
       "    <tr>\n",
       "      <th>5</th>\n",
       "      <td>3</td>\n",
       "      <td>Queenstown</td>\n",
       "    </tr>\n",
       "  </tbody>\n",
       "</table>\n",
       "</div>"
      ],
      "text/plain": [
       "   port_id         Name\n",
       "0        1  Southampton\n",
       "1        2    Cherbourg\n",
       "5        3   Queenstown"
      ]
     },
     "execution_count": 13,
     "metadata": {},
     "output_type": "execute_result"
    }
   ],
   "source": [
    "port_data.head(10)"
   ]
  },
  {
   "cell_type": "code",
   "execution_count": 14,
   "id": "77c721b5",
   "metadata": {},
   "outputs": [],
   "source": [
    "passenger_data['Age'].fillna(0, inplace=True)\n",
    "passenger_data['Age'] = passenger_data['Age'].astype(int)"
   ]
  },
  {
   "cell_type": "code",
   "execution_count": 15,
   "id": "e44564e3",
   "metadata": {},
   "outputs": [
    {
     "data": {
      "text/html": [
       "<div>\n",
       "<style scoped>\n",
       "    .dataframe tbody tr th:only-of-type {\n",
       "        vertical-align: middle;\n",
       "    }\n",
       "\n",
       "    .dataframe tbody tr th {\n",
       "        vertical-align: top;\n",
       "    }\n",
       "\n",
       "    .dataframe thead th {\n",
       "        text-align: right;\n",
       "    }\n",
       "</style>\n",
       "<table border=\"1\" class=\"dataframe\">\n",
       "  <thead>\n",
       "    <tr style=\"text-align: right;\">\n",
       "      <th></th>\n",
       "      <th>PassengerId</th>\n",
       "      <th>Survived</th>\n",
       "      <th>Name</th>\n",
       "      <th>Sex</th>\n",
       "      <th>Age</th>\n",
       "      <th>SibSp</th>\n",
       "      <th>Parch</th>\n",
       "    </tr>\n",
       "  </thead>\n",
       "  <tbody>\n",
       "    <tr>\n",
       "      <th>0</th>\n",
       "      <td>1</td>\n",
       "      <td>0</td>\n",
       "      <td>Braund, Mr. Owen Harris</td>\n",
       "      <td>male</td>\n",
       "      <td>22</td>\n",
       "      <td>1</td>\n",
       "      <td>0</td>\n",
       "    </tr>\n",
       "    <tr>\n",
       "      <th>1</th>\n",
       "      <td>2</td>\n",
       "      <td>1</td>\n",
       "      <td>Cumings, Mrs. John Bradley (Florence Briggs Th...</td>\n",
       "      <td>female</td>\n",
       "      <td>38</td>\n",
       "      <td>1</td>\n",
       "      <td>0</td>\n",
       "    </tr>\n",
       "    <tr>\n",
       "      <th>2</th>\n",
       "      <td>3</td>\n",
       "      <td>1</td>\n",
       "      <td>Heikkinen, Miss. Laina</td>\n",
       "      <td>female</td>\n",
       "      <td>26</td>\n",
       "      <td>0</td>\n",
       "      <td>0</td>\n",
       "    </tr>\n",
       "    <tr>\n",
       "      <th>3</th>\n",
       "      <td>4</td>\n",
       "      <td>1</td>\n",
       "      <td>Futrelle, Mrs. Jacques Heath (Lily May Peel)</td>\n",
       "      <td>female</td>\n",
       "      <td>35</td>\n",
       "      <td>1</td>\n",
       "      <td>0</td>\n",
       "    </tr>\n",
       "    <tr>\n",
       "      <th>4</th>\n",
       "      <td>5</td>\n",
       "      <td>0</td>\n",
       "      <td>Allen, Mr. William Henry</td>\n",
       "      <td>male</td>\n",
       "      <td>35</td>\n",
       "      <td>0</td>\n",
       "      <td>0</td>\n",
       "    </tr>\n",
       "    <tr>\n",
       "      <th>5</th>\n",
       "      <td>6</td>\n",
       "      <td>0</td>\n",
       "      <td>Moran, Mr. James</td>\n",
       "      <td>male</td>\n",
       "      <td>0</td>\n",
       "      <td>0</td>\n",
       "      <td>0</td>\n",
       "    </tr>\n",
       "    <tr>\n",
       "      <th>6</th>\n",
       "      <td>7</td>\n",
       "      <td>0</td>\n",
       "      <td>McCarthy, Mr. Timothy J</td>\n",
       "      <td>male</td>\n",
       "      <td>54</td>\n",
       "      <td>0</td>\n",
       "      <td>0</td>\n",
       "    </tr>\n",
       "    <tr>\n",
       "      <th>7</th>\n",
       "      <td>8</td>\n",
       "      <td>0</td>\n",
       "      <td>Palsson, Master. Gosta Leonard</td>\n",
       "      <td>male</td>\n",
       "      <td>2</td>\n",
       "      <td>3</td>\n",
       "      <td>1</td>\n",
       "    </tr>\n",
       "    <tr>\n",
       "      <th>8</th>\n",
       "      <td>9</td>\n",
       "      <td>1</td>\n",
       "      <td>Johnson, Mrs. Oscar W (Elisabeth Vilhelmina Berg)</td>\n",
       "      <td>female</td>\n",
       "      <td>27</td>\n",
       "      <td>0</td>\n",
       "      <td>2</td>\n",
       "    </tr>\n",
       "    <tr>\n",
       "      <th>9</th>\n",
       "      <td>10</td>\n",
       "      <td>1</td>\n",
       "      <td>Nasser, Mrs. Nicholas (Adele Achem)</td>\n",
       "      <td>female</td>\n",
       "      <td>14</td>\n",
       "      <td>1</td>\n",
       "      <td>0</td>\n",
       "    </tr>\n",
       "  </tbody>\n",
       "</table>\n",
       "</div>"
      ],
      "text/plain": [
       "   PassengerId  Survived                                               Name  \\\n",
       "0            1         0                            Braund, Mr. Owen Harris   \n",
       "1            2         1  Cumings, Mrs. John Bradley (Florence Briggs Th...   \n",
       "2            3         1                             Heikkinen, Miss. Laina   \n",
       "3            4         1       Futrelle, Mrs. Jacques Heath (Lily May Peel)   \n",
       "4            5         0                           Allen, Mr. William Henry   \n",
       "5            6         0                                   Moran, Mr. James   \n",
       "6            7         0                            McCarthy, Mr. Timothy J   \n",
       "7            8         0                     Palsson, Master. Gosta Leonard   \n",
       "8            9         1  Johnson, Mrs. Oscar W (Elisabeth Vilhelmina Berg)   \n",
       "9           10         1                Nasser, Mrs. Nicholas (Adele Achem)   \n",
       "\n",
       "      Sex  Age  SibSp  Parch  \n",
       "0    male   22      1      0  \n",
       "1  female   38      1      0  \n",
       "2  female   26      0      0  \n",
       "3  female   35      1      0  \n",
       "4    male   35      0      0  \n",
       "5    male    0      0      0  \n",
       "6    male   54      0      0  \n",
       "7    male    2      3      1  \n",
       "8  female   27      0      2  \n",
       "9  female   14      1      0  "
      ]
     },
     "execution_count": 15,
     "metadata": {},
     "output_type": "execute_result"
    }
   ],
   "source": [
    "passenger_data.head(10)"
   ]
  },
  {
   "cell_type": "markdown",
   "id": "f9376410",
   "metadata": {},
   "source": [
    "#### Exportation des DataFrames en fichiers CSV"
   ]
  },
  {
   "cell_type": "code",
   "execution_count": 16,
   "id": "bf4134f2",
   "metadata": {},
   "outputs": [],
   "source": [
    "passenger_data.to_csv(\"passenger.csv\",encoding=\"utf-8\", index = False)\n",
    "port_data.to_csv(\"port.csv\",encoding=\"utf-8\", index = False)\n",
    "registered_data.to_csv(\"registered.csv\",encoding=\"utf-8\", index = False)\n",
    "ticket_data.to_csv(\"ticket.csv\",encoding=\"utf-8\", index = False)"
   ]
  },
  {
   "cell_type": "markdown",
   "id": "93186dfc",
   "metadata": {},
   "source": [
    "### Importation des données à l'aide du connecteur python 'psycopg2' pour PostgreSQL et de notre fonction copy adapté pour les requetes utilisées avec des fichiers."
   ]
  },
  {
   "cell_type": "code",
   "execution_count": 17,
   "id": "6c70f94d",
   "metadata": {},
   "outputs": [
    {
     "ename": "UniqueViolation",
     "evalue": "duplicate key value violates unique constraint \"port_pkey\"\nDETAIL:  Key (port_id)=(1) already exists.\nCONTEXT:  COPY port, line 2\n",
     "output_type": "error",
     "traceback": [
      "\u001b[1;31m---------------------------------------------------------------------------\u001b[0m",
      "\u001b[1;31mUniqueViolation\u001b[0m                           Traceback (most recent call last)",
      "\u001b[1;32m~\\AppData\\Local\\Temp/ipykernel_9760/2876878885.py\u001b[0m in \u001b[0;36m<module>\u001b[1;34m\u001b[0m\n\u001b[0;32m      4\u001b[0m \u001b[0mticket_file\u001b[0m \u001b[1;33m=\u001b[0m \u001b[0mopen\u001b[0m\u001b[1;33m(\u001b[0m\u001b[1;34m\"ticket.csv\"\u001b[0m\u001b[1;33m,\u001b[0m \u001b[1;34m\"r\"\u001b[0m\u001b[1;33m)\u001b[0m\u001b[1;33m\u001b[0m\u001b[1;33m\u001b[0m\u001b[0m\n\u001b[0;32m      5\u001b[0m \u001b[1;33m\u001b[0m\u001b[0m\n\u001b[1;32m----> 6\u001b[1;33m \u001b[0mcopy\u001b[0m\u001b[1;33m(\u001b[0m\u001b[0mDatabaseManager\u001b[0m\u001b[1;33m.\u001b[0m\u001b[0mBDD1\u001b[0m\u001b[1;33m,\u001b[0m \u001b[1;34m\"COPY port FROM STDIN DELIMITER ',' CSV HEADER\"\u001b[0m\u001b[1;33m,\u001b[0m \u001b[0mport_file\u001b[0m\u001b[1;33m)\u001b[0m\u001b[1;33m\u001b[0m\u001b[1;33m\u001b[0m\u001b[0m\n\u001b[0m\u001b[0;32m      7\u001b[0m \u001b[0mcopy\u001b[0m\u001b[1;33m(\u001b[0m\u001b[0mDatabaseManager\u001b[0m\u001b[1;33m.\u001b[0m\u001b[0mBDD1\u001b[0m\u001b[1;33m,\u001b[0m \u001b[1;34m\"COPY ticket FROM STDIN DELIMITER ',' CSV HEADER NULL AS '0'\"\u001b[0m\u001b[1;33m,\u001b[0m \u001b[0mticket_file\u001b[0m\u001b[1;33m)\u001b[0m\u001b[1;33m\u001b[0m\u001b[1;33m\u001b[0m\u001b[0m\n\u001b[0;32m      8\u001b[0m \u001b[0mcopy\u001b[0m\u001b[1;33m(\u001b[0m\u001b[0mDatabaseManager\u001b[0m\u001b[1;33m.\u001b[0m\u001b[0mBDD1\u001b[0m\u001b[1;33m,\u001b[0m \u001b[1;34m\"COPY passenger FROM STDIN DELIMITER ',' CSV HEADER\"\u001b[0m\u001b[1;33m,\u001b[0m \u001b[0mpassenger_file\u001b[0m\u001b[1;33m)\u001b[0m\u001b[1;33m\u001b[0m\u001b[1;33m\u001b[0m\u001b[0m\n",
      "\u001b[1;32m~\\AppData\\Local\\Temp/ipykernel_9760/4289519294.py\u001b[0m in \u001b[0;36mcopy\u001b[1;34m(dbmanager, qry, file)\u001b[0m\n\u001b[0;32m     24\u001b[0m     \u001b[0mconnection\u001b[0m \u001b[1;33m=\u001b[0m \u001b[0mdbmanager\u001b[0m\u001b[1;33m.\u001b[0m\u001b[0mgetDatabaseAccess\u001b[0m\u001b[1;33m(\u001b[0m\u001b[1;33m)\u001b[0m\u001b[1;33m.\u001b[0m\u001b[0mgetConnection\u001b[0m\u001b[1;33m(\u001b[0m\u001b[1;33m)\u001b[0m\u001b[1;33m\u001b[0m\u001b[1;33m\u001b[0m\u001b[0m\n\u001b[0;32m     25\u001b[0m     \u001b[0mcursor\u001b[0m \u001b[1;33m=\u001b[0m \u001b[0mconnection\u001b[0m\u001b[1;33m.\u001b[0m\u001b[0mcursor\u001b[0m\u001b[1;33m(\u001b[0m\u001b[1;33m)\u001b[0m\u001b[1;33m\u001b[0m\u001b[1;33m\u001b[0m\u001b[0m\n\u001b[1;32m---> 26\u001b[1;33m     \u001b[0mcursor\u001b[0m\u001b[1;33m.\u001b[0m\u001b[0mcopy_expert\u001b[0m\u001b[1;33m(\u001b[0m\u001b[0mqry\u001b[0m\u001b[1;33m,\u001b[0m \u001b[0mfile\u001b[0m\u001b[1;33m)\u001b[0m\u001b[1;33m\u001b[0m\u001b[1;33m\u001b[0m\u001b[0m\n\u001b[0m\u001b[0;32m     27\u001b[0m     \u001b[0mcursor\u001b[0m\u001b[1;33m.\u001b[0m\u001b[0mclose\u001b[0m\u001b[1;33m(\u001b[0m\u001b[1;33m)\u001b[0m\u001b[1;33m\u001b[0m\u001b[1;33m\u001b[0m\u001b[0m\n\u001b[0;32m     28\u001b[0m     \u001b[0mdbmanager\u001b[0m\u001b[1;33m.\u001b[0m\u001b[0mgetDatabaseAccess\u001b[0m\u001b[1;33m(\u001b[0m\u001b[1;33m)\u001b[0m\u001b[1;33m.\u001b[0m\u001b[0mreleaseConnection\u001b[0m\u001b[1;33m(\u001b[0m\u001b[0mconnection\u001b[0m\u001b[1;33m)\u001b[0m\u001b[1;33m\u001b[0m\u001b[1;33m\u001b[0m\u001b[0m\n",
      "\u001b[1;31mUniqueViolation\u001b[0m: duplicate key value violates unique constraint \"port_pkey\"\nDETAIL:  Key (port_id)=(1) already exists.\nCONTEXT:  COPY port, line 2\n"
     ]
    }
   ],
   "source": [
    "passenger_file = open(\"passenger.csv\", \"r\")\n",
    "port_file = open(\"port.csv\", \"r\")\n",
    "registered_file = open(\"registered.csv\", \"r\")\n",
    "ticket_file = open(\"ticket.csv\", \"r\")\n",
    "\n",
    "copy(DatabaseManager.BDD1, \"COPY port FROM STDIN DELIMITER ',' CSV HEADER\", port_file)\n",
    "copy(DatabaseManager.BDD1, \"COPY ticket FROM STDIN DELIMITER ',' CSV HEADER NULL AS '0'\", ticket_file)\n",
    "copy(DatabaseManager.BDD1, \"COPY passenger FROM STDIN DELIMITER ',' CSV HEADER\", passenger_file)\n",
    "copy(DatabaseManager.BDD1, \"COPY registered(PassengerId, ticket_id) FROM STDIN DELIMITER ',' CSV HEADER\", registered_file)"
   ]
  },
  {
   "cell_type": "markdown",
   "id": "06f3c74c",
   "metadata": {},
   "source": [
    "## Phase 3:"
   ]
  },
  {
   "cell_type": "markdown",
   "id": "51c80bfd",
   "metadata": {},
   "source": [
    "**Combien de classes de passagers différentes y avait-il à bord du Titanic ?**"
   ]
  },
  {
   "cell_type": "code",
   "execution_count": 18,
   "id": "de7b1886",
   "metadata": {},
   "outputs": [
    {
     "name": "stdout",
     "output_type": "stream",
     "text": [
      "Il y avait donc 3 classes différentes\n"
     ]
    }
   ],
   "source": [
    "result = query(DatabaseManager.BDD1, \"SELECT COUNT(distinct Pclass) FROM ticket;\")\n",
    "nbclass = result[0][0]\n",
    "print(\"Il y avait donc \" + str(nbclass) + \" classes différentes\" )"
   ]
  },
  {
   "cell_type": "markdown",
   "id": "78b9a837",
   "metadata": {},
   "source": [
    "**Combien de passagers y avait-il dans chaque classe?**"
   ]
  },
  {
   "cell_type": "code",
   "execution_count": 19,
   "id": "c26fcff5",
   "metadata": {},
   "outputs": [
    {
     "name": "stdout",
     "output_type": "stream",
     "text": [
      "Il y avait 216 passagers dans la classe 1\n",
      "Il y avait 184 passagers dans la classe 2\n",
      "Il y avait 491 passagers dans la classe 3\n"
     ]
    }
   ],
   "source": [
    "total = query(DatabaseManager.BDD1, \"SELECT count(PassengerId) FROM passenger;\")[0][0]\n",
    "data = {}\n",
    "for i in range(1, nbclass+1):\n",
    "    data[i] = query(DatabaseManager.BDD1, \"SELECT COUNT(*) FROM ticket WHERE Pclass=%s;\", i)[0][0]\n",
    "    print(\"Il y avait \" + str(data[i]) + \" passagers dans la classe \" + str(i))"
   ]
  },
  {
   "cell_type": "code",
   "execution_count": 20,
   "id": "7100bebf",
   "metadata": {},
   "outputs": [
    {
     "data": {
      "image/png": "[encoded data removed]",
      "text/plain": [
       "<Figure size 576x432 with 1 Axes>"
      ]
     },
     "metadata": {
      "needs_background": "light"
     },
     "output_type": "display_data"
    }
   ],
   "source": [
    "import matplotlib.pyplot as plt\n",
    " \n",
    "allclass = list(data.keys())\n",
    "nb = list(data.values())\n",
    "  \n",
    "fig = plt.figure(figsize = (8, 6))\n",
    " \n",
    "plt.bar(allclass, nb, color ='red',\n",
    "        width = 0.5)\n",
    " \n",
    "plt.xticks(allclass)\n",
    "plt.yticks(range(0, total, 40))\n",
    "plt.xlabel(\"Différentes classes\")\n",
    "plt.ylabel(\"Nombre de passagers\")\n",
    "plt.title(\"Nombre de passagers dans les différentes classes\")\n",
    "plt.show()"
   ]
  },
  {
   "cell_type": "markdown",
   "id": "af0d7eb2",
   "metadata": {},
   "source": [
    "**Combien de femmes et d'hommes y avait-il dans chaque classe?**"
   ]
  },
  {
   "cell_type": "code",
   "execution_count": 21,
   "id": "ef23a630",
   "metadata": {},
   "outputs": [],
   "source": [
    "data2 = {} # Women is the first entry of the value (tuple)\n",
    "\n",
    "for i in range(1, nbclass+1):  \n",
    "    result2 = query(DatabaseManager.BDD1, \n",
    "                    \"SELECT COUNT(*) FROM registered NATURAL JOIN passenger \"\n",
    "                    \"NATURAL JOIN ticket WHERE Pclass=%s AND sex=%s;\", i, 'female')\n",
    "    result3 = query(DatabaseManager.BDD1, \n",
    "                    \"SELECT COUNT(*) FROM registered NATURAL JOIN passenger \"\n",
    "                    \"NATURAL JOIN ticket WHERE Pclass=%s AND sex=%s;\", i, 'male')\n",
    "    \n",
    "    data2[i] = (result2[0][0], result3[0][0])"
   ]
  },
  {
   "cell_type": "code",
   "execution_count": 23,
   "id": "5297b3b3",
   "metadata": {},
   "outputs": [
    {
     "data": {
      "image/png": "[encoded data removed]",
      "text/plain": [
       "<Figure size 432x288 with 1 Axes>"
      ]
     },
     "metadata": {
      "needs_background": "light"
     },
     "output_type": "display_data"
    }
   ],
   "source": [
    "X = []\n",
    "for k in data2.keys():\n",
    "    X.append(k)\n",
    "\n",
    "Ywomen = []\n",
    "Zmen = []\n",
    "\n",
    "for i in data2.values():\n",
    "    Ywomen.append(i[0])\n",
    "    \n",
    "for i in data2.values():\n",
    "    Zmen.append(i[1])\n",
    "  \n",
    "X_axis = np.arange(len(X))\n",
    "  \n",
    "plt.bar(X_axis - 0.2, Ywomen, 0.4, label = 'Femmes')\n",
    "plt.bar(X_axis + 0.2, Zmen, 0.4, label = 'Hommes')\n",
    "  \n",
    "plt.xticks(X_axis, X)\n",
    "plt.xlabel(\"Classes\")\n",
    "plt.ylabel(\"Nombre de passagers\")\n",
    "plt.title(\"Nombre de passagers dans chaque classes suivant leur sexe\")\n",
    "plt.legend()\n",
    "plt.show()"
   ]
  },
  {
   "cell_type": "markdown",
   "id": "9966df93",
   "metadata": {},
   "source": [
    "**Comptez le nombre et le pourcentage de survivants et de passagers\n",
    "morts.**"
   ]
  },
  {
   "cell_type": "code",
   "execution_count": 26,
   "id": "88e4d51a",
   "metadata": {},
   "outputs": [
    {
     "name": "stdout",
     "output_type": "stream",
     "text": [
      "[(549, False, 61), (342, True, 38)]\n"
     ]
    }
   ],
   "source": [
    "print(query(DatabaseManager.BDD1, \"SELECT COUNT(passengerid) , survived, count(survived)*100/891 as pourcentage from passenger group by survived;\"))"
   ]
  },
  {
   "cell_type": "markdown",
   "id": "d444d442",
   "metadata": {},
   "source": [
    "**Visualiser la répartition des passagers survivants et morts par classe**"
   ]
  },
  {
   "cell_type": "code",
   "execution_count": null,
   "id": "e513534c",
   "metadata": {},
   "outputs": [],
   "source": [
    "select pclass, survived from passagers group by survived, pclass;"
   ]
  },
  {
   "cell_type": "markdown",
   "id": "856f0b97",
   "metadata": {},
   "source": [
    "### On a terminé nos opérations sur la Base de données, on ferme donc le pool de connexion"
   ]
  },
  {
   "cell_type": "code",
   "execution_count": null,
   "id": "120941ae",
   "metadata": {},
   "outputs": [],
   "source": [
    "# DatabaseManager.closeAllDatabaseConnections()"
   ]
  }
 ],
 "metadata": {
  "kernelspec": {
   "display_name": "Python 3 (ipykernel)",
   "language": "python",
   "name": "python3"
  },
  "language_info": {
   "codemirror_mode": {
    "name": "ipython",
    "version": 3
   },
   "file_extension": ".py",
   "mimetype": "text/x-python",
   "name": "python",
   "nbconvert_exporter": "python",
   "pygments_lexer": "ipython3",
   "version": "3.8.12"
  }
 },
 "nbformat": 4,
 "nbformat_minor": 5
}
